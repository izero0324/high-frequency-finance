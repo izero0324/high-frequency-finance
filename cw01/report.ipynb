{
 "cells": [
  {
   "cell_type": "markdown",
   "metadata": {},
   "source": [
    "# High Frequency Finance Coursework I \n",
    "`Student:  k23110833 Chia-hung,Yang`\n",
    "\n",
    "`OS: MacOS Sonoma 14.1.2`\n",
    "\n",
    "`DataBase: MySQL Ver 8.3.0 for macos14.2 on arm64 (Homebrew)`\n",
    "\n",
    "`Python: 3.11.7`\n",
    "\n",
    "## Part I: Compare SQL and NoSQL (worth 5%)"
   ]
  },
  {
   "cell_type": "markdown",
   "metadata": {},
   "source": []
  },
  {
   "cell_type": "markdown",
   "metadata": {},
   "source": [
    "---\n",
    "## Part II: Create a database for high-frequency data (worth 8%)\n",
    "### 1. Install MySQL db\n",
    "\n",
    "#### Step1: Automatic installation by shell script\n",
    "We create a shell file to create MySQL db on MacOS system to assure the consistancy of installing the database, and here is the following file\n",
    "```Bash\n",
    "#!/bin/sh\n",
    "# This is a Bash for installing\n",
    "# MySQL on MacOS by Brew\n",
    "# Author: Izero0324\n",
    "\n",
    "# Check current folder\n",
    "echo \"$PWD\"\n",
    "\n",
    "# This script checks if MySQL is installed,\n",
    "# and if not, attempts to install it using Homebrew.\n",
    "\n",
    "# Check if MySQL is installed\n",
    "if mysql --version &>/dev/null; then\n",
    "    echo \"You have installed MySQL\"\n",
    "else\n",
    "    echo \"MySQL is not installed. Attempting to install...\"\n",
    "    # Update Homebrew and Install MySQL\n",
    "    brew update && brew install mysql\n",
    "    # After installation, you may want to start MySQL automatically:\n",
    "    brew services start mysql\n",
    "    echo \"MySQL has been installed and started.\"\n",
    "fi\n",
    "```\n",
    "\n",
    "\n",
    "#### Step2: Initial MySQL database. \n",
    "We initial security and root settings by the following command:\n",
    "```\n",
    "mysql_secure_installation\n",
    "```\n",
    "Set the root password, remove anonymous users, disallow root login remotely, remove test database, and reload privilege tables!\n",
    "\n",
    "\n",
    "#### Step3: Setup local infile loading access\n",
    "In this coursework, we need to load local csv file into database, so we will have to grant privilage to access local files.\n",
    "\n",
    "First, cruise to file `/opt/homebrew/etc/my.cnf` and add the following:\n",
    "```bash\n",
    "[mysqld]\n",
    "secure-file-priv = \"\"\n",
    "SET GLOBAL local_infile = 1;\n",
    "```\n",
    "\n",
    "Then, restart mysql by the following command:\n",
    "```bash\n",
    "# use homebrew package to restart mysql service\n",
    "brew services restart mysql \n",
    "```\n",
    "\n",
    "Run MySQL:\n",
    "```bash\n",
    "mysql --local-infile=1 -u root -p\n",
    "# --local-infile = 1 turns on the previliage for reading local files\n",
    "# -u : user, we use root here\n",
    "# -p : enter password by console\n",
    "```"
   ]
  },
  {
   "cell_type": "markdown",
   "metadata": {},
   "source": [
    "---\n",
    "## Part III: Establish a connection to the database in Python (worth 2%)"
   ]
  },
  {
   "cell_type": "markdown",
   "metadata": {},
   "source": [
    "There are various libraries designed to access a local MySQL server from Python for MySQL database interaction. \n",
    "\n",
    "The most common library is `mysql-connector-python`, developed and maintained by Oracle, and `PyMySQL`, a pure Python MySQL client library.\n",
    "\n",
    "MySQL is now maintained by the Oracle Co. so we choose to use the library `mysql-connector-python` , which is more trust-worthy."
   ]
  },
  {
   "cell_type": "markdown",
   "metadata": {},
   "source": [
    "1. Install `mysql-connector-python` library:"
   ]
  },
  {
   "cell_type": "code",
   "execution_count": 1,
   "metadata": {},
   "outputs": [
    {
     "name": "stdout",
     "output_type": "stream",
     "text": [
      "Collecting mysql-connector-python\n",
      "  Downloading mysql_connector_python-8.3.0-cp311-cp311-macosx_13_0_arm64.whl.metadata (1.9 kB)\n",
      "Downloading mysql_connector_python-8.3.0-cp311-cp311-macosx_13_0_arm64.whl (15.3 MB)\n",
      "\u001b[2K   \u001b[90m━━━━━━━━━━━━━━━━━━━━━━━━━━━━━━━━━━━━━━━━\u001b[0m \u001b[32m15.3/15.3 MB\u001b[0m \u001b[31m10.7 MB/s\u001b[0m eta \u001b[36m0:00:00\u001b[0m00:01\u001b[0m00:01\u001b[0m\n",
      "\u001b[?25hInstalling collected packages: mysql-connector-python\n",
      "Successfully installed mysql-connector-python-8.3.0\n",
      "\n",
      "\u001b[1m[\u001b[0m\u001b[34;49mnotice\u001b[0m\u001b[1;39;49m]\u001b[0m\u001b[39;49m A new release of pip is available: \u001b[0m\u001b[31;49m23.3.1\u001b[0m\u001b[39;49m -> \u001b[0m\u001b[32;49m24.0\u001b[0m\n",
      "\u001b[1m[\u001b[0m\u001b[34;49mnotice\u001b[0m\u001b[1;39;49m]\u001b[0m\u001b[39;49m To update, run: \u001b[0m\u001b[32;49mpython3.11 -m pip install --upgrade pip\u001b[0m\n"
     ]
    }
   ],
   "source": [
    "!pip3 install mysql-connector-python"
   ]
  },
  {
   "cell_type": "markdown",
   "metadata": {},
   "source": [
    "2. Import the library:"
   ]
  },
  {
   "cell_type": "code",
   "execution_count": 2,
   "metadata": {},
   "outputs": [],
   "source": [
    "import mysql.connector"
   ]
  },
  {
   "cell_type": "markdown",
   "metadata": {},
   "source": [
    "3. fetch initail settings from config file 'config.json'\n",
    "The json file is stored in the same path as this notebook, and has following info\n",
    "```\n",
    "{\n",
    "    \"user\": \"root\",\n",
    "    \"password\": \"********\",  \n",
    "    \"host\": \"localhost\",\n",
    "    \"database\": \"Database\",\n",
    "    \"raise_on_warnings\": true\n",
    "}\n",
    "```\n",
    "We store the config settings locally to avoid the password leak."
   ]
  },
  {
   "cell_type": "code",
   "execution_count": 8,
   "metadata": {},
   "outputs": [],
   "source": [
    "import json\n",
    "def json2dict(filename):\n",
    "    # Opening file\n",
    "    f = open(filename+'_config.json')\n",
    "    # returns JSON object as a dictionary\n",
    "    json_data = json.load(f)\n",
    "    # Closing file\n",
    "    f.close()\n",
    "    return json_data"
   ]
  },
  {
   "cell_type": "code",
   "execution_count": 10,
   "metadata": {},
   "outputs": [],
   "source": [
    "# Database connection parameters\n",
    "db = 'LSE_HFF'\n",
    "config = json2dict(db)"
   ]
  },
  {
   "cell_type": "code",
   "execution_count": null,
   "metadata": {},
   "outputs": [],
   "source": []
  }
 ],
 "metadata": {
  "kernelspec": {
   "display_name": "Python 3",
   "language": "python",
   "name": "python3"
  },
  "language_info": {
   "codemirror_mode": {
    "name": "ipython",
    "version": 3
   },
   "file_extension": ".py",
   "mimetype": "text/x-python",
   "name": "python",
   "nbconvert_exporter": "python",
   "pygments_lexer": "ipython3",
   "version": "3.11.7"
  },
  "orig_nbformat": 4
 },
 "nbformat": 4,
 "nbformat_minor": 2
}
