{
 "cells": [
  {
   "cell_type": "markdown",
   "metadata": {},
   "source": [
    "# High Frequency Finance Coursework I \n",
    "`Student:  k23110833 Chia-hung,Yang`\n",
    "\n",
    "`OS: MacOS Sonoma 14.1.2`\n",
    "\n",
    "`DataBase: MySQL Ver 8.3.0 for macos14.2 on arm64 (Homebrew)`\n",
    "\n",
    "`Python: 3.11.7`\n",
    "\n",
    "## Part I: Compare SQL and NoSQL (worth 5%)"
   ]
  },
  {
   "cell_type": "markdown",
   "metadata": {},
   "source": []
  },
  {
   "cell_type": "markdown",
   "metadata": {},
   "source": [
    "---\n",
    "## Part II: Create a database for high-frequency data (worth 8%)\n",
    "### 1. Install MySQL db\n",
    "\n",
    "#### Step1: Automatic installation by shell script\n",
    "We create a shell file to create MySQL db on MacOS system to assure the consistancy of installing the database, and here is the following file\n",
    "```Bash\n",
    "#!/bin/sh\n",
    "# This is a Bash for installing\n",
    "# MySQL on MacOS by Brew\n",
    "# Author: Izero0324\n",
    "\n",
    "# Check current folder\n",
    "echo \"$PWD\"\n",
    "\n",
    "# This script checks if MySQL is installed,\n",
    "# and if not, attempts to install it using Homebrew.\n",
    "\n",
    "# Check if MySQL is installed\n",
    "if mysql --version &>/dev/null; then\n",
    "    echo \"You have installed MySQL\"\n",
    "else\n",
    "    echo \"MySQL is not installed. Attempting to install...\"\n",
    "    # Update Homebrew and Install MySQL\n",
    "    brew update && brew install mysql\n",
    "    # After installation, you may want to start MySQL automatically:\n",
    "    brew services start mysql\n",
    "    echo \"MySQL has been installed and started.\"\n",
    "fi\n",
    "```\n",
    "\n",
    "\n",
    "#### Step2: Initial MySQL database. \n",
    "We initial security and root settings by the following command:\n",
    "```\n",
    "mysql_secure_installation\n",
    "```\n",
    "Set the root password, remove anonymous users, disallow root login remotely, remove test database, and reload privilege tables!\n",
    "\n",
    "\n",
    "#### Step3: Setup local infile loading access\n",
    "In this coursework, we need to load local csv file into database, so we will have to grant privilage to access local files.\n",
    "\n",
    "First, cruise to file `/opt/homebrew/etc/my.cnf` and add the following:\n",
    "```bash\n",
    "[mysqld]\n",
    "secure-file-priv = \"\"\n",
    "SET GLOBAL local_infile = 1;\n",
    "```\n",
    "\n",
    "Then, restart mysql by the following command:\n",
    "```\n",
    "brew services restart mysql\n",
    "```\n",
    "\n",
    "Run MySQL:\n",
    "```\n",
    "mysql --local-infile=1 -u root -p\n",
    "```"
   ]
  },
  {
   "cell_type": "code",
   "execution_count": null,
   "metadata": {},
   "outputs": [],
   "source": []
  }
 ],
 "metadata": {
  "kernelspec": {
   "display_name": "Python 3",
   "language": "python",
   "name": "python3"
  },
  "language_info": {
   "name": "python",
   "version": "3.11.7"
  },
  "orig_nbformat": 4
 },
 "nbformat": 4,
 "nbformat_minor": 2
}
